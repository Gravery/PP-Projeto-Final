{
  "cells": [
    {
      "attachments": {},
      "cell_type": "markdown",
      "metadata": {
        "id": "EayeVa_QW1ne"
      },
      "source": [
        "# Orientações para o trabalho final\n",
        "\n",
        "A idéia desta atividade é realizar a paralelização de uma aplicação ou comparação entre plataformas usando algumas das estratégias apresentadas no curso.  O problema não é fixo, fica à escolha, mas tem que tratar de um problema com complexidade ou volume de processamento relevante. Exemplos de problema incluem [Stencils](https://en.wikipedia.org/wiki/Stencil_code), [String matching](https://en.wikipedia.org/wiki/String-searching_algorithm) e [ordenação](https://en.wikipedia.org/wiki/Sorting_algorithm), entre outros. Resumidamente, os passos para o desenvolvimento do trabalho são os seguintes:\n",
        "\n",
        "1. Encontre e clone ou crie um repositório com o código que queira trabalhar;\n",
        "2. Execute o código inicial e salve os resultados obtidos;\n",
        "3. Faça as modificações que desejar para otimizar o código ou comparar seu desempenho entre diferentes arquiteturas/plataformas;\n",
        "4. Execute cada versão que julgar relevante salvando os resultados obtidos;\n",
        "5. Elabore um gráfico comparativo das versões;\n",
        "6. Elebore um relatório com a discussão dos resultados no README.md na raiz, contendo:\n",
        "  - Descrição do problema;\n",
        "  - Estratégia de paralelização;\n",
        "  - Versão sequencial de referência (apenas trecho de interesse para paralelização);\n",
        "  - Versão paralela comentada (apenas trecho de interesse de paralelização);\n",
        "  - Análise da escalabilidade: esperada e obtida;\n",
        "  - Discussão sobre a eficiência da solução;\n",
        "  - Conclusões;\n",
        "7. Envie o link do repositório para correção. \n",
        "\n",
        "O repositório no GitHub, com o material desenvolvido, deve conter:\n",
        "- O código inicial (para sabermos de onde você partiu);\n",
        "- Commits/Releases para versões modificadas;\n",
        "- Comparativo entre elas incluindo gráficos e discussão."
      ]
    },
    {
      "cell_type": "code",
      "execution_count": null,
      "metadata": {},
      "outputs": [],
      "source": [
        "Configurações de hardware usadas para execução"
      ]
    },
    {
      "cell_type": "code",
      "execution_count": 343,
      "metadata": {},
      "outputs": [
        {
          "name": "stdout",
          "output_type": "stream",
          "text": [
            "Architecture:        x86_64\n",
            "CPU op-mode(s):      32-bit, 64-bit\n",
            "Byte Order:          Little Endian\n",
            "Address sizes:       36 bits physical, 48 bits virtual\n",
            "CPU(s):              4\n",
            "On-line CPU(s) list: 0-3\n",
            "Thread(s) per core:  1\n",
            "Core(s) per socket:  4\n",
            "Socket(s):           1\n",
            "Vendor ID:           GenuineIntel\n",
            "CPU family:          6\n",
            "Model:               94\n",
            "Model name:          Intel(R) Core(TM) i5-6500 CPU @ 3.20GHz\n",
            "Stepping:            3\n",
            "CPU MHz:             3201.000\n",
            "CPU max MHz:         3201.0000\n",
            "BogoMIPS:            6402.00\n",
            "Virtualization:      VT-x\n",
            "Hypervisor vendor:   Windows Subsystem for Linux\n",
            "Virtualization type: container\n",
            "Flags:               fpu vme de pse tsc msr pae mce cx8 apic sep mtrr pge mca cm\n",
            "                     ov pat pse36 clflush dts acpi mmx fxsr sse sse2 ss ht tm pb\n",
            "                     e syscall nx pdpe1gb rdtscp lm pni pclmulqdq dtes64 monitor\n",
            "                      ds_cpl vmx smx est tm2 ssse3 fma cx16 xtpr pdcm pcid sse4_\n",
            "                     1 sse4_2 x2apic movbe popcnt tsc_deadline_timer aes xsave o\n",
            "                     sxsave avx f16c rdrand lahf_lm abm 3dnowprefetch fsgsbase t\n",
            "                     sc_adjust bmi1 hle avx2 smep bmi2 erms invpcid rtm mpx rdse\n",
            "                     ed adx smap clflushopt intel_pt ibrs ibpb stibp ssbd\n"
          ]
        }
      ],
      "source": [
        "!lscpu"
      ]
    },
    {
      "attachments": {},
      "cell_type": "markdown",
      "metadata": {},
      "source": [
        "Script para gerar arrays suficientemente grandes para medir o desempenho"
      ]
    },
    {
      "cell_type": "code",
      "execution_count": 395,
      "metadata": {},
      "outputs": [],
      "source": [
        "#Gerar vetores de tamanho N\n",
        "import random\n",
        "\n",
        "#Definir tamanho do vetor\n",
        "n = 100000\n",
        "\n",
        "f = open('v.in', 'w')\n",
        "\n",
        "f.write(str(n) + '\\n')\n",
        "\n",
        "for i in range(n):\n",
        "      f.write(str(random.randint(-10000, 10000)) + ' ')\n",
        "      \n",
        "f.close()"
      ]
    },
    {
      "attachments": {},
      "cell_type": "markdown",
      "metadata": {
        "id": "rjGZQA6b1YQ0"
      },
      "source": [
        "Compilação"
      ]
    },
    {
      "cell_type": "code",
      "execution_count": null,
      "metadata": {},
      "outputs": [],
      "source": [
        "!if [ ! mergesort -nt mergesort.c ]; then gcc mergesort.c -o mergesort -O3; fi\n",
        "!time ./mergesort < v.in > seq.out"
      ]
    },
    {
      "cell_type": "code",
      "execution_count": null,
      "metadata": {},
      "outputs": [],
      "source": [
        "!if [ ! mergesortOMP -nt mergesortOMP.c ]; then gcc mergesortOMP.c -o mergesortOMP -fopenmp -O3; fi\n",
        "!time ./mergesortOMP < v.in > par.out"
      ]
    },
    {
      "cell_type": "code",
      "execution_count": null,
      "metadata": {},
      "outputs": [],
      "source": [
        "! if [ ! mergesortCUDA -nt mergesortCUDA.cu ]; then nvcc mergesortCUDA.cu -w -o mergesortCUDA -O3 ; fi\n",
        "! time ./mergesortCUDA < v.in > cuda.out"
      ]
    },
    {
      "cell_type": "code",
      "execution_count": 340,
      "metadata": {},
      "outputs": [],
      "source": [
        "!diff seq.out par.out"
      ]
    },
    {
      "cell_type": "code",
      "execution_count": 358,
      "metadata": {},
      "outputs": [],
      "source": [
        "!rm seq.out && rm par.out && rm cuda.out"
      ]
    },
    {
      "attachments": {},
      "cell_type": "markdown",
      "metadata": {
        "id": "-_-zXzhWgQxv"
      },
      "source": [
        "Tempos de execução do código"
      ]
    },
    {
      "cell_type": "code",
      "execution_count": 402,
      "metadata": {
        "colab": {
          "base_uri": "https://localhost:8080/"
        },
        "id": "T4OxGj6igj4U",
        "outputId": "7f72de87-cb5b-4548-ec42-e2d04e10f6c6"
      },
      "outputs": [
        {
          "name": "stdout",
          "output_type": "stream",
          "text": [
            "Writing tempos.csv\n"
          ]
        }
      ],
      "source": [
        "%%writefile tempos.csv\n",
        "platform, version, execution_time_s\n",
        "CPU, Serial, 0.252\n",
        "CPU, Serial, 0.402\n",
        "CPU, Serial, 0.360\n",
        "CPU, Serial, 0.366\n",
        "CPU, Serial, 0.369\n",
        "CPU P, Paralelo, 0.216\n",
        "CPU P, Paralelo, 0.212\n",
        "CPU P, Paralelo, 0.219\n",
        "CPU P, Paralelo, 0.212\n",
        "CPU P, Paralelo, 0.217\n",
        "GPU, Paralelo, 0.198\n",
        "GPU, Paralelo, 0.201\n",
        "GPU, Paralelo, 0.248\n",
        "GPU, Paralelo, 0.198\n",
        "GPU, Paralelo, 0.194"
      ]
    },
    {
      "attachments": {},
      "cell_type": "markdown",
      "metadata": {
        "id": "Mm3UHb6Km0LK"
      },
      "source": [
        "O foco da paralelização foi a função mergeSort que divide o vetor em 2 partes e invoca a si mesmo e faz um merge das subdivisões.\n",
        "\n",
        "Sua versão sequencial é a seguinte:\n",
        "\n",
        "```c\n",
        "//Merge sort  Sequencial\n",
        "    void mergeSort(int arr[], int l, int r)\n",
        "{\n",
        "\tif (l < r) {\n",
        "\t\tint m = l + (r - l) / 2;\n",
        "\n",
        "\t\tmergeSort(arr, l, m);\n",
        "\t\tmergeSort(arr, m + 1, r);\n",
        "\n",
        "\t\tmerge(arr, l, m, r);\n",
        "\t}\n",
        "}\n",
        "```\n",
        "Com OpenMP criamos seções paralelas para serem executadas por threads:\n",
        "\n",
        "```c\n",
        "//Paralelização do mergeSort com OpenMP\n",
        "void mergeSort(int arr[], int l, int r)\n",
        "{\t\n",
        "\tint m;\n",
        "\tif (l < r) {\n",
        "\n",
        "\t\tint m = l + (r - l) / 2;\n",
        "\t\t//Seção paralela que se subdividirá em 2 seções para cala lado do merge\n",
        "\t\t#pragma omp parallel sections num_threads(2)\n",
        "\t\t{\n",
        "\t\t\t#pragma omp section\n",
        "\t\t\t{\n",
        "\t\t\t\tmergeSort(arr, l, m);\n",
        "\t\t\t}\n",
        "\n",
        "\t\t\t#pragma omp section\n",
        "\t\t\t{\n",
        "\t\t\t\tmergeSort(arr, m + 1, r);\n",
        "\t\t\t}\n",
        "\t\t}\n",
        "\t\tmerge(arr, l, m, r);\n",
        "\t}\n",
        "}\n",
        "```\n",
        "\n",
        "Com CUDA criamos a função no host para realizar a operação na GPU:\n",
        "\n",
        "```c\n",
        "//Criação da função no kernel\n",
        "__global__ void mergeSort(int arr[], int l, int r)\n",
        "{\n",
        "    if (l < r) {\n",
        "        int m = l + (r - l) / 2;\n",
        "        mergeSort<<<1,1>>>(arr, l, m);\n",
        "        mergeSort<<<1,1>>>(arr, m + 1, r);\n",
        "        merge(arr, l, m, r);\n",
        "    }\n",
        "}\n",
        "```"
      ]
    },
    {
      "cell_type": "code",
      "execution_count": 403,
      "metadata": {
        "colab": {
          "base_uri": "https://localhost:8080/",
          "height": 309
        },
        "id": "foU7qTu7jeoU",
        "outputId": "229c198e-cd0d-4894-ac0d-52ad95be0ed4"
      },
      "outputs": [
        {
          "name": "stderr",
          "output_type": "stream",
          "text": [
            "/tmp/ipykernel_2047/161060906.py:11: FutureWarning: The default value of numeric_only in DataFrameGroupBy.mean is deprecated. In a future version, numeric_only will default to False. Either specify numeric_only or select only columns which should be valid for the function.\n",
            "  avg_time = by_version.mean()\n",
            "/tmp/ipykernel_2047/161060906.py:12: FutureWarning: The default value of numeric_only in DataFrameGroupBy.std is deprecated. In a future version, numeric_only will default to False. Either specify numeric_only or select only columns which should be valid for the function.\n",
            "  std = by_version.std()\n"
          ]
        },
        {
          "data": {
            "text/plain": [
              "Text(0, 0.5, 'Execution time (s)')"
            ]
          },
          "execution_count": 403,
          "metadata": {},
          "output_type": "execute_result"
        },
        {
          "data": {
            "image/png": "[encoded data removed]",
            "text/plain": [
              "<Figure size 640x480 with 1 Axes>"
            ]
          },
          "metadata": {},
          "output_type": "display_data"
        }
      ],
      "source": [
        "import os\n",
        "import pandas as pd\n",
        "import matplotlib.pyplot as plt\n",
        "\n",
        "FILENAME = 'tempos.csv'\n",
        "\n",
        "if os.path.isfile(FILENAME):\n",
        "    df = pd.read_csv(FILENAME)\n",
        "\n",
        "by_version = df.groupby(by=\"platform\", sort=False)\n",
        "avg_time = by_version.mean()\n",
        "std = by_version.std()\n",
        "plt = avg_time.plot(legend=False, kind=\"bar\", yerr=std, xlabel=\"\")\n",
        "plt.set_title(\"Average execution time\")\n",
        "plt.set_ylabel(\"Execution time (s)\")"
      ]
    }
  ],
  "metadata": {
    "colab": {
      "provenance": []
    },
    "kernelspec": {
      "display_name": "Python 3 (ipykernel)",
      "language": "python",
      "name": "python3"
    },
    "language_info": {
      "codemirror_mode": {
        "name": "ipython",
        "version": 3
      },
      "file_extension": ".py",
      "mimetype": "text/x-python",
      "name": "python",
      "nbconvert_exporter": "python",
      "pygments_lexer": "ipython3",
      "version": "3.10.9"
    }
  },
  "nbformat": 4,
  "nbformat_minor": 0
}
